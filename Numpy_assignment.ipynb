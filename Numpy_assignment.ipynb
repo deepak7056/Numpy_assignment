{
  "nbformat": 4,
  "nbformat_minor": 0,
  "metadata": {
    "colab": {
      "provenance": []
    },
    "kernelspec": {
      "name": "python3",
      "display_name": "Python 3"
    },
    "language_info": {
      "name": "python"
    }
  },
  "cells": [
    {
      "cell_type": "code",
      "execution_count": 1,
      "metadata": {
        "colab": {
          "base_uri": "https://localhost:8080/"
        },
        "id": "9KYraZfqmAIg",
        "outputId": "216a3509-53a9-48fa-abd9-522425ca4fc5"
      },
      "outputs": [
        {
          "output_type": "stream",
          "name": "stdout",
          "text": [
            "Datatpe of arr:  int64\n"
          ]
        }
      ],
      "source": [
        "# 1. Create a NumPy array 'arr' of integers from 0 to 5 and print its data type.\n",
        "\n",
        "import numpy as np\n",
        "arr = np.array([0,1,2,3,4,5])\n",
        "print(\"Datatpe of arr: \",arr.dtype)"
      ]
    },
    {
      "cell_type": "code",
      "source": [
        "# 2. Given a NumPy array 'arr', check if its data type is float64.\n",
        "\n",
        "arr = np.array([1.5, 2.6, 3.7])\n",
        "print(arr.dtype)"
      ],
      "metadata": {
        "colab": {
          "base_uri": "https://localhost:8080/"
        },
        "id": "wdnJGnBFnFCx",
        "outputId": "bd7f85a6-fc8f-42f3-ab83-b550f472756b"
      },
      "execution_count": null,
      "outputs": [
        {
          "output_type": "stream",
          "name": "stdout",
          "text": [
            "float64\n"
          ]
        }
      ]
    },
    {
      "cell_type": "code",
      "source": [
        "# 3. Create a NumPy array 'arr' with a data type of complex128 containing three complex numbers.\n",
        "\n",
        "arr = np.array([1+2j, 3-4j, 5+6j])\n",
        "print(arr.dtype)"
      ],
      "metadata": {
        "colab": {
          "base_uri": "https://localhost:8080/"
        },
        "id": "zWM2atz8nxIT",
        "outputId": "8d934744-c7d4-4db5-ea5d-c859984d8f1e"
      },
      "execution_count": null,
      "outputs": [
        {
          "output_type": "stream",
          "name": "stdout",
          "text": [
            "complex128\n"
          ]
        }
      ]
    },
    {
      "cell_type": "code",
      "source": [
        "# 4. Convert an existing NumPy array 'arr' of integers to float32 data type.\n",
        "\n",
        "arr = arr.astype(np.float32)\n",
        "print(arr.dtype)"
      ],
      "metadata": {
        "colab": {
          "base_uri": "https://localhost:8080/"
        },
        "id": "DnF0zJV2ogwE",
        "outputId": "cb9749ec-6e8c-4fd5-b373-4ea6695b4778"
      },
      "execution_count": null,
      "outputs": [
        {
          "output_type": "stream",
          "name": "stdout",
          "text": [
            "float32\n"
          ]
        }
      ]
    },
    {
      "cell_type": "code",
      "source": [
        "# 5. Given a NumPy array 'arr' with float64 data type, convert it to float32 to reduce decimal precision.\n",
        "\n",
        "arr = np.array([1.5, 2.6, 3.7])\n",
        "arr = arr.astype(np.float32)\n",
        "print(arr.dtype)"
      ],
      "metadata": {
        "colab": {
          "base_uri": "https://localhost:8080/"
        },
        "id": "eQPcQGnnpRkb",
        "outputId": "720f32d6-3ef5-4ee7-ff6f-89be8dac7bb3"
      },
      "execution_count": null,
      "outputs": [
        {
          "output_type": "stream",
          "name": "stdout",
          "text": [
            "float32\n"
          ]
        }
      ]
    },
    {
      "cell_type": "code",
      "source": [
        "# 6. Write a function array_attributes that takes a NumPy array as input and returns its shape, size, and datatype.\n",
        "\n",
        "def array_attributes(arr1):\n",
        "  shape = arr1.shape\n",
        "  size = arr1.size\n",
        "  data_type = arr1.dtype\n",
        "  return shape, size, data_type\n",
        "\n",
        "arr1 = array_attributes(np.array([[1,2,3],[4,5,6]]))\n",
        "print(\"Shape:\", arr1[0])\n",
        "print(\"Size:\", arr1[1])\n",
        "print(\"Data Type:\", arr1[2])"
      ],
      "metadata": {
        "colab": {
          "base_uri": "https://localhost:8080/"
        },
        "id": "uc4Da6KVYimt",
        "outputId": "833aea6e-f4cd-43d5-c372-d3acf324ab88"
      },
      "execution_count": null,
      "outputs": [
        {
          "output_type": "stream",
          "name": "stdout",
          "text": [
            "Shape: (2, 3)\n",
            "Size: 6\n",
            "Data Type: int64\n"
          ]
        }
      ]
    },
    {
      "cell_type": "code",
      "source": [
        "# 7. Create a function array_dimension that takes a NumPy array as input and returns its dimensionality.\n",
        "\n",
        "def array_dimension(arr2):\n",
        "  return arr2.ndim\n",
        "\n",
        "arr2 = array_dimension(np.array([[4,4,3],[7,5,1]]))\n",
        "print(\"Dimensionality:\", arr2)"
      ],
      "metadata": {
        "colab": {
          "base_uri": "https://localhost:8080/"
        },
        "id": "MmRTwYqFZm2B",
        "outputId": "48c096af-c15c-4595-80eb-252fa5c5d2e5"
      },
      "execution_count": null,
      "outputs": [
        {
          "output_type": "stream",
          "name": "stdout",
          "text": [
            "Dimensionality: 2\n"
          ]
        }
      ]
    },
    {
      "cell_type": "code",
      "source": [
        "# 8. Design a function item_size_info that takes a NumPy array as input and returns the item size and the total size in bytes.\n",
        "\n",
        "def item_size_info(arr3):\n",
        "  item_size_bytes = arr3.itemsize\n",
        "  total_size_bytes = arr3.nbytes\n",
        "  return item_size_bytes, total_size_bytes\n",
        "\n",
        "arr3 = item_size_info(np.array([[4,4,3],[7,5,1]]))\n",
        "print(\"Item Size (bytes):\", arr3[0])\n",
        "print(\"Total Size (bytes):\", arr3[1])"
      ],
      "metadata": {
        "colab": {
          "base_uri": "https://localhost:8080/"
        },
        "id": "BHcTbUQbbCMZ",
        "outputId": "4e27a813-2e79-4627-907f-fb7d3210c7c0"
      },
      "execution_count": null,
      "outputs": [
        {
          "output_type": "stream",
          "name": "stdout",
          "text": [
            "Item Size (bytes): 8\n",
            "Total Size (bytes): 48\n"
          ]
        }
      ]
    },
    {
      "cell_type": "code",
      "source": [
        "# 9. Create a function array_strides that takes a NumPy array as input and returns the strides of the array.\n",
        "\n",
        "def array_strides(arr4):\n",
        "  return arr4.strides\n",
        "\n",
        "arr4 = array_strides(np.array([[4,4,3],[7,5,1]]))\n",
        "print(\"Strides:\", arr4)"
      ],
      "metadata": {
        "colab": {
          "base_uri": "https://localhost:8080/"
        },
        "id": "gNQFdmFIcTi9",
        "outputId": "0f60e3ef-9752-4a48-86be-eccc4df83a6c"
      },
      "execution_count": null,
      "outputs": [
        {
          "output_type": "stream",
          "name": "stdout",
          "text": [
            "Strides: (24, 8)\n"
          ]
        }
      ]
    },
    {
      "cell_type": "code",
      "source": [
        "arr = np.array([[4,4,3],[7,5,1]])\n",
        "arr"
      ],
      "metadata": {
        "colab": {
          "base_uri": "https://localhost:8080/"
        },
        "id": "9NxKbv-Fcsqa",
        "outputId": "6e91cc0f-a733-4a58-d290-57fbe0d5032e"
      },
      "execution_count": null,
      "outputs": [
        {
          "output_type": "execute_result",
          "data": {
            "text/plain": [
              "array([[4, 4, 3],\n",
              "       [7, 5, 1]])"
            ]
          },
          "metadata": {},
          "execution_count": 15
        }
      ]
    },
    {
      "cell_type": "code",
      "source": [
        "# 10. Design a function shape_stride_relationship that takes a NumPy array as input and returns the shape and strides of the array.\n",
        "\n",
        "def shape_stride_relationship(arr4):\n",
        "  shape = arr4.shape\n",
        "  stride = arr4.strides\n",
        "  return shape, stride\n",
        "\n",
        "shape, stride = shape_stride_relationship(np.array([[4,4,3],[7,5,1]]))\n",
        "print(\"Shape:\", shape)\n",
        "print(\"Strides:\", stride)"
      ],
      "metadata": {
        "colab": {
          "base_uri": "https://localhost:8080/"
        },
        "id": "YCQFWJsCdBMv",
        "outputId": "fedab4f4-17fe-4fc8-82ff-373a43e8d1f3"
      },
      "execution_count": null,
      "outputs": [
        {
          "output_type": "stream",
          "name": "stdout",
          "text": [
            "Shape: (2, 3)\n",
            "Strides: (24, 8)\n"
          ]
        }
      ]
    },
    {
      "cell_type": "code",
      "source": [
        "# 11. Create a function `create_zeros_array` that takes an integer `n` as input and returns a NumPy array of zeros with `n` elements.\n",
        "\n",
        "def create_zeros_array(n):\n",
        "  arr = np.zeros(n)\n",
        "  return arr\n",
        "\n",
        "n = int(input(\"Enter any number: \"))\n",
        "arr = create_zeros_array(n)\n",
        "print(arr)"
      ],
      "metadata": {
        "colab": {
          "base_uri": "https://localhost:8080/"
        },
        "id": "5QXqb7GqekLb",
        "outputId": "ebb240b1-0333-4b34-d829-ed7e3c47ef70"
      },
      "execution_count": null,
      "outputs": [
        {
          "output_type": "stream",
          "name": "stdout",
          "text": [
            "Enter any number: 5\n",
            "[0. 0. 0. 0. 0.]\n"
          ]
        }
      ]
    },
    {
      "cell_type": "code",
      "source": [
        "# 12. Write a function `create_ones_matrix` that takes integers `rows` and `cols` as inputs and generates a 2D NumPy array filled with ones of size `rows x cols`.\n",
        "\n",
        "def create_ones_matrix(row,col):\n",
        "  arr = np.ones((row,col))\n",
        "  return arr\n",
        "\n",
        "row = int(input(\"Enter row number: \"))\n",
        "col = int(input(\"Enter column number: \"))\n",
        "arr = create_ones_matrix(row,col)\n",
        "print(arr)"
      ],
      "metadata": {
        "colab": {
          "base_uri": "https://localhost:8080/"
        },
        "id": "3BlcUR2PfOzF",
        "outputId": "2ff0eaaf-fcc5-415a-9e22-af247c41126f"
      },
      "execution_count": null,
      "outputs": [
        {
          "output_type": "stream",
          "name": "stdout",
          "text": [
            "Enter row number: 3\n",
            "Enter column number: 4\n",
            "[[1. 1. 1. 1.]\n",
            " [1. 1. 1. 1.]\n",
            " [1. 1. 1. 1.]]\n"
          ]
        }
      ]
    },
    {
      "cell_type": "code",
      "source": [
        "# 13. Write a function `generate_range_array` that takes three integers start, stop, and step as arguments and creates a NumPy array with a range starting from `start`, ending at stop (exclusive), and with the specified `step`.\n",
        "\n",
        "def generate_range_array(start,stop,step):\n",
        "\n",
        "  return np.arange(start,stop,step)\n",
        "\n",
        "start = 1\n",
        "stop = 10\n",
        "step = 2\n",
        "array = generate_range_array(start,stop,step)\n",
        "print(\"Range array: \",array)"
      ],
      "metadata": {
        "colab": {
          "base_uri": "https://localhost:8080/"
        },
        "id": "wIELWV4EgNVG",
        "outputId": "95662c1a-80de-490d-8994-c010d6c2e7d0"
      },
      "execution_count": null,
      "outputs": [
        {
          "output_type": "stream",
          "name": "stdout",
          "text": [
            "Range array:  [1 3 5 7 9]\n"
          ]
        }
      ]
    },
    {
      "cell_type": "code",
      "source": [
        "# 14. Design a function `generate_linear_space` that takes two floats `start`, `stop`, and an integer `num` as arguments and generates a NumPy array with num equally spaced values between `start` and `stop` (inclusive).\n",
        "\n",
        "def generate_linear_space(start,stop,num):\n",
        "\n",
        "  return np.linspace(start,stop,num)\n",
        "\n",
        "start = 1.0\n",
        "stop = 2.0\n",
        "num = 5\n",
        "array = generate_linear_space(start,stop,num)\n",
        "print(\"Linear space array: \",array)"
      ],
      "metadata": {
        "colab": {
          "base_uri": "https://localhost:8080/"
        },
        "id": "SnyDkaOjikKo",
        "outputId": "ef39e86b-3181-4668-c729-4a6e01887de9"
      },
      "execution_count": null,
      "outputs": [
        {
          "output_type": "stream",
          "name": "stdout",
          "text": [
            "Linear space array:  [1.   1.25 1.5  1.75 2.  ]\n"
          ]
        }
      ]
    },
    {
      "cell_type": "code",
      "source": [
        "# 15. Create a function `create_identity_matrix` that takes an integer `n` as input and generates a square identity matrix of size `n x n` using `numpy.eye`.\n",
        "\n",
        "def create_identity_matrix(n):\n",
        "  arr = np.eye(n)\n",
        "  return arr\n",
        "\n",
        "n = int(input(\"Enter any number: \"))\n",
        "arr = create_identity_matrix(n)\n",
        "print(arr)"
      ],
      "metadata": {
        "colab": {
          "base_uri": "https://localhost:8080/"
        },
        "id": "HHmOlD0AjxQr",
        "outputId": "920ac8bb-b12b-4521-a601-4edda7bbb917"
      },
      "execution_count": null,
      "outputs": [
        {
          "output_type": "stream",
          "name": "stdout",
          "text": [
            "Enter any number: 5\n",
            "[[1. 0. 0. 0. 0.]\n",
            " [0. 1. 0. 0. 0.]\n",
            " [0. 0. 1. 0. 0.]\n",
            " [0. 0. 0. 1. 0.]\n",
            " [0. 0. 0. 0. 1.]]\n"
          ]
        }
      ]
    },
    {
      "cell_type": "code",
      "source": [
        "# 16. Write a function that takes a Python list and converts it into a NumPy array.\n",
        "\n",
        "def lst_to_array(lst):\n",
        "  arr = np.array(lst)\n",
        "  return arr\n",
        "\n",
        "lst = [2,3,4,5,6]\n",
        "arr = lst_to_array(lst)\n",
        "print(\"Numpy array: \",arr)"
      ],
      "metadata": {
        "colab": {
          "base_uri": "https://localhost:8080/"
        },
        "id": "qvwiT93RkK0P",
        "outputId": "75f08dbf-bd02-461d-880b-4bb2d0cfc8d1"
      },
      "execution_count": null,
      "outputs": [
        {
          "output_type": "stream",
          "name": "stdout",
          "text": [
            "Numpy array:  [2 3 4 5 6]\n"
          ]
        }
      ]
    },
    {
      "cell_type": "code",
      "source": [
        "org_array = np.array([[1,2,3],[4,5,6]])\n",
        "view_array = org_array.view()\n",
        "org_array[0,0] = 10\n",
        "\n",
        "print(\"Original array: \\n\",org_array)\n",
        "print(\"View array: \\n\",view_array)"
      ],
      "metadata": {
        "colab": {
          "base_uri": "https://localhost:8080/"
        },
        "id": "W5h8FVVsksfR",
        "outputId": "52027d9e-5a55-487c-c0a8-360b833d41d2"
      },
      "execution_count": null,
      "outputs": [
        {
          "output_type": "stream",
          "name": "stdout",
          "text": [
            "Original array: \n",
            " [[10  2  3]\n",
            " [ 4  5  6]]\n",
            "View array: \n",
            " [[10  2  3]\n",
            " [ 4  5  6]]\n"
          ]
        }
      ]
    },
    {
      "cell_type": "code",
      "source": [
        "# 18. Write a function that takes two NumPy arrays and concatenates them along a specified axis.\n",
        "\n",
        "arr1 = np.array([[1,2,3],[4,5,6]])\n",
        "arr2 = np.array([[1,2,8],[7,8,9]])\n",
        "\n",
        "res = np.concatenate((arr1,arr2), axis = 1)\n",
        "print(res)"
      ],
      "metadata": {
        "colab": {
          "base_uri": "https://localhost:8080/"
        },
        "id": "SLN59j7LmI6q",
        "outputId": "c221d0a8-fab2-4de0-faa0-227854d5d9f8"
      },
      "execution_count": null,
      "outputs": [
        {
          "output_type": "stream",
          "name": "stdout",
          "text": [
            "[[1 2 3 1 2 8]\n",
            " [4 5 6 7 8 9]]\n"
          ]
        }
      ]
    },
    {
      "cell_type": "code",
      "source": [
        "# 19. Create two NumPy arrays with different shapes and concatenate them horizontally using `numpy.concatenate`.\n",
        "\n",
        "arr1 = np.array([[1, 2, 3],[4, 5, 6]])\n",
        "arr2 = np.array([[7, 8],[9, 10]])\n",
        "res = np.concatenate((arr1,arr2),axis = 1)\n",
        "\n",
        "print(res)"
      ],
      "metadata": {
        "colab": {
          "base_uri": "https://localhost:8080/"
        },
        "id": "q1tW4SnTnd-r",
        "outputId": "ebd32418-bb15-4c03-c2d7-3b399332a08e"
      },
      "execution_count": null,
      "outputs": [
        {
          "output_type": "stream",
          "name": "stdout",
          "text": [
            "[[ 1  2  3  7  8]\n",
            " [ 4  5  6  9 10]]\n"
          ]
        }
      ]
    },
    {
      "cell_type": "code",
      "source": [
        "# 20. Write a function that vertically stacks multiple NumPy arrays given as a list.\n",
        "\n",
        "def stacks_array(arr):\n",
        "\n",
        "  return np.vstack(arr)\n",
        "\n",
        "arr1 = np.array([[1, 2, 3],[4, 5, 6]])\n",
        "arr2 = np.array([[7, 8, 9],[10, 11, 12]])\n",
        "arr3 = np.array([[13, 14, 15],[16, 17, 18]])\n",
        "\n",
        "res = stacks_array([arr1,arr2,arr3])\n",
        "print(\"Vertically stacked array: \\n\",res)"
      ],
      "metadata": {
        "colab": {
          "base_uri": "https://localhost:8080/"
        },
        "id": "Zn2xyVoEoU8w",
        "outputId": "a48d1950-e796-48a2-e8a5-3dd6020d5407"
      },
      "execution_count": null,
      "outputs": [
        {
          "output_type": "stream",
          "name": "stdout",
          "text": [
            "Vertically stacked array: \n",
            " [[ 1  2  3]\n",
            " [ 4  5  6]\n",
            " [ 7  8  9]\n",
            " [10 11 12]\n",
            " [13 14 15]\n",
            " [16 17 18]]\n"
          ]
        }
      ]
    },
    {
      "cell_type": "code",
      "source": [
        "# 21. Write a Python function using NumPy to create an array of integers within a specified range (inclusive) with a given step size.\n",
        "\n",
        "\n",
        "def create_integer_array(start, stop, step=1):\n",
        "\n",
        "    return np.arange(start, stop + 1, step)\n",
        "\n",
        "\n",
        "start = 1\n",
        "stop = 10\n",
        "step = 2\n",
        "integer_array = create_integer_array(start, stop, step)\n",
        "print(\"Integer Array:\", integer_array)\n"
      ],
      "metadata": {
        "colab": {
          "base_uri": "https://localhost:8080/"
        },
        "id": "zukn0YEppCcn",
        "outputId": "89832ad7-1230-4073-c589-b5f7f1f09fea"
      },
      "execution_count": null,
      "outputs": [
        {
          "output_type": "stream",
          "name": "stdout",
          "text": [
            "Integer Array: [1 3 5 7 9]\n"
          ]
        }
      ]
    },
    {
      "cell_type": "code",
      "source": [
        "# 22. Write a Python function using NumPy to generate an array of 10 equally spaced values between 0 and 1 (inclusive).\n",
        "\n",
        "def spaced_values():\n",
        "\n",
        "  return np.linspace(0,1,10)\n",
        "\n",
        "print(\"Spaced equally values: \", spaced_values())"
      ],
      "metadata": {
        "colab": {
          "base_uri": "https://localhost:8080/"
        },
        "id": "e6PslqvVAwv2",
        "outputId": "4289888a-86fe-4a09-a902-565930ca2378"
      },
      "execution_count": null,
      "outputs": [
        {
          "output_type": "stream",
          "name": "stdout",
          "text": [
            "Spaced equally values:  [0.         0.11111111 0.22222222 0.33333333 0.44444444 0.55555556\n",
            " 0.66666667 0.77777778 0.88888889 1.        ]\n"
          ]
        }
      ]
    },
    {
      "cell_type": "code",
      "source": [
        "# 23. Write a Python function using NumPy to create an array of 5 logarithmically spaced values between 1 and 1000 (inclusive).\n",
        "\n",
        "def logarithmatically_values():\n",
        "\n",
        "  return np.logspace(0,3,5)\n",
        "\n",
        "print(\"Logarithmatically values: \", logarithmatically_values())"
      ],
      "metadata": {
        "colab": {
          "base_uri": "https://localhost:8080/"
        },
        "id": "h0frPqRKAwzK",
        "outputId": "32c280da-1f0c-4f22-e17e-6143efd35ff0"
      },
      "execution_count": null,
      "outputs": [
        {
          "output_type": "stream",
          "name": "stdout",
          "text": [
            "Logarithmatically values:  [   1.            5.62341325   31.6227766   177.827941   1000.        ]\n"
          ]
        }
      ]
    },
    {
      "cell_type": "code",
      "source": [
        "# 24. Create a Pandas DataFrame using a NumPy array that contains 5 rows and 3 columns, where the values are random integers between 1 and 100\n",
        "\n",
        "import pandas as pd\n",
        "\n",
        "data = np.random.randint(1,101, size = (5,3))\n",
        "df = pd.DataFrame(data, columns = ['column1','column2','column2'])\n",
        "print(\"Pandas dataframe: \\n\",df)"
      ],
      "metadata": {
        "colab": {
          "base_uri": "https://localhost:8080/"
        },
        "id": "fKKkMgNIAw1X",
        "outputId": "cd382058-7e29-4414-f148-d86ffbeb6d7a"
      },
      "execution_count": null,
      "outputs": [
        {
          "output_type": "stream",
          "name": "stdout",
          "text": [
            "Pandas dataframe: \n",
            "    column1  column2  column2\n",
            "0       21       53       84\n",
            "1       28       83       35\n",
            "2       14       78       95\n",
            "3       49       47       94\n",
            "4       43       60       22\n"
          ]
        }
      ]
    },
    {
      "cell_type": "code",
      "source": [
        "# 25. Write a function that takes a Pandas DataFrame and replaces all negative values in a specific column with zeros. Use NumPy operations within the Pandas DataFrame.\n",
        "\n",
        "def rep_neg(df,col_name):\n",
        "\n",
        "  df[col_name] = np.where(df[col_name] < 0, 0, df[col_name])\n",
        "  return df\n",
        "\n",
        "data = {'A': [1, 2, -3, 4, -5],\n",
        "        'B': [5, -6, 7, -8, 9]}\n",
        "df = pd.DataFrame(data)\n",
        "\n",
        "print(\"Original DataFrame:\")\n",
        "print(df)\n",
        "\n",
        "df_updated = rep_neg(df, 'A')\n",
        "\n",
        "print(\"\\nDataFrame after replacing negative values with zeros:\")\n",
        "print(df_updated)"
      ],
      "metadata": {
        "id": "BrDyVqsYAw4j",
        "colab": {
          "base_uri": "https://localhost:8080/"
        },
        "outputId": "aa079b7e-ced6-44ba-f2e2-5780cc2b8b26"
      },
      "execution_count": null,
      "outputs": [
        {
          "output_type": "stream",
          "name": "stdout",
          "text": [
            "Original DataFrame:\n",
            "   A  B\n",
            "0  1  5\n",
            "1  2 -6\n",
            "2 -3  7\n",
            "3  4 -8\n",
            "4 -5  9\n",
            "\n",
            "DataFrame after replacing negative values with zeros:\n",
            "   A  B\n",
            "0  1  5\n",
            "1  2 -6\n",
            "2  0  7\n",
            "3  4 -8\n",
            "4  0  9\n"
          ]
        }
      ]
    },
    {
      "cell_type": "code",
      "source": [
        "# 26. Access the 3rd element from the given NumPy array\n",
        "\n",
        "arr = np.array([10, 20, 30, 40, 50])\n",
        "arr[2]"
      ],
      "metadata": {
        "id": "Fi5qanLvAw7j",
        "colab": {
          "base_uri": "https://localhost:8080/"
        },
        "outputId": "89a70467-35a6-4ddc-c60d-e5afc6112a7d"
      },
      "execution_count": null,
      "outputs": [
        {
          "output_type": "execute_result",
          "data": {
            "text/plain": [
              "30"
            ]
          },
          "metadata": {},
          "execution_count": 4
        }
      ]
    },
    {
      "cell_type": "code",
      "source": [
        "# 27. Retrieve the element at index (1, 2) from the 2D NumPy array.\n",
        "\n",
        "arr_2d = np.array([[1, 2, 3],\n",
        "                   [4, 5, 6],\n",
        "                   [7, 8, 9]])\n",
        "\n",
        "arr_2d[1,2]"
      ],
      "metadata": {
        "id": "PjXPU8gEAw_A",
        "colab": {
          "base_uri": "https://localhost:8080/"
        },
        "outputId": "e782a48d-91e9-4539-b194-abb87c5db23a"
      },
      "execution_count": null,
      "outputs": [
        {
          "output_type": "execute_result",
          "data": {
            "text/plain": [
              "6"
            ]
          },
          "metadata": {},
          "execution_count": 7
        }
      ]
    },
    {
      "cell_type": "code",
      "source": [
        "# 28. Using boolean indexing, extract elements greater than 5 from the given NumPy array.\n",
        "\n",
        "arr = np.array([3, 8, 2, 10, 5, 7])\n",
        "\n",
        "\n",
        "arr[arr > 5]"
      ],
      "metadata": {
        "colab": {
          "base_uri": "https://localhost:8080/"
        },
        "id": "2poe3Y8JI29m",
        "outputId": "228a0004-54e4-4d15-c05e-2b64ea8d00d2"
      },
      "execution_count": null,
      "outputs": [
        {
          "output_type": "execute_result",
          "data": {
            "text/plain": [
              "array([ 8, 10,  7])"
            ]
          },
          "metadata": {},
          "execution_count": 8
        }
      ]
    },
    {
      "cell_type": "code",
      "source": [
        "# 29. Perform basic slicing to extract elements from index 2 to 5 (inclusive) from the given NumPy array.\n",
        "\n",
        "arr = np.array([1, 2, 3, 4, 5, 6, 7, 8, 9])\n",
        "arr[2:5]"
      ],
      "metadata": {
        "colab": {
          "base_uri": "https://localhost:8080/"
        },
        "id": "0SUbanYBI3Ax",
        "outputId": "10aeea31-523b-4d22-97cf-cf7d0c889a7a"
      },
      "execution_count": null,
      "outputs": [
        {
          "output_type": "execute_result",
          "data": {
            "text/plain": [
              "array([3, 4, 5])"
            ]
          },
          "metadata": {},
          "execution_count": 9
        }
      ]
    },
    {
      "cell_type": "code",
      "source": [
        "# 30. Slice the 2D NumPy array to extract the sub-array `[[2, 3], [5, 6]]` from the given array.\n",
        "\n",
        "arr_2d = np.array([[1, 2, 3],\n",
        "                   [4, 5, 6],\n",
        "                   [7, 8, 9]])\n",
        "\n",
        "arr_2d[0:2,1:3]"
      ],
      "metadata": {
        "colab": {
          "base_uri": "https://localhost:8080/"
        },
        "id": "vGr8x2zsI3Cq",
        "outputId": "9cc28d43-80ea-428d-81bf-6a6a68e2e9e7"
      },
      "execution_count": null,
      "outputs": [
        {
          "output_type": "execute_result",
          "data": {
            "text/plain": [
              "array([[2, 3],\n",
              "       [5, 6]])"
            ]
          },
          "metadata": {},
          "execution_count": 13
        }
      ]
    },
    {
      "cell_type": "code",
      "source": [
        "# 31.Write a NumPy function to extract elements in specific order from a given 2D array based on indices provided in another array.\n",
        "\n"
      ],
      "metadata": {
        "id": "Myo9Hhw5I3FM"
      },
      "execution_count": null,
      "outputs": []
    },
    {
      "cell_type": "code",
      "source": [
        "# 32. Create a NumPy function that filters elements greater than a threshold from a given 1D array using boolean indexing.\n",
        "\n",
        "def filt_elem(arr,threshold):\n",
        "\n",
        "  return arr[arr > threshold]\n",
        "\n",
        "arr = np.array([7,5,3,1,8,9,12,65])\n",
        "threshold = 10\n",
        "\n",
        "print(\"Elements greater than a threshold: \\n\", filt_elem(arr,threshold))"
      ],
      "metadata": {
        "colab": {
          "base_uri": "https://localhost:8080/"
        },
        "id": "AZW3KOvgNGut",
        "outputId": "209b1b6c-6d94-4678-ca5b-8943b64556b7"
      },
      "execution_count": null,
      "outputs": [
        {
          "output_type": "stream",
          "name": "stdout",
          "text": [
            "Elements greater than a threshold: \n",
            " [12 65]\n"
          ]
        }
      ]
    },
    {
      "cell_type": "code",
      "source": [
        "# 33. Develop a NumPy function that extracts specific elements from a 3D array using indices provided in three separate arrays for each dimension.\n",
        "\n",
        "def extract_elem(arr_3d, indices_dim1, indices_dim2, indices_dim3):\n",
        "\n",
        "    return arr_3d[indices_dim1, indices_dim2, indices_dim3]\n",
        "\n",
        "arr_3d = np.arange(24).reshape(2, 3, 4)\n",
        "indices_dim1 = np.array([0, 1])\n",
        "indices_dim2 = np.array([1, 2])\n",
        "indices_dim3 = np.array([2, 3])\n",
        "\n",
        "print(\"Extracted elements: \\n\", extract_elem(arr_3d, indices_dim1, indices_dim2, indices_dim3))"
      ],
      "metadata": {
        "colab": {
          "base_uri": "https://localhost:8080/"
        },
        "id": "edCb-yxpNGyf",
        "outputId": "c2bfb9d2-29d0-4acb-a6a4-b12b11d36424"
      },
      "execution_count": null,
      "outputs": [
        {
          "output_type": "stream",
          "name": "stdout",
          "text": [
            "Extracted elements: \n",
            " [ 6 23]\n"
          ]
        }
      ]
    },
    {
      "cell_type": "code",
      "source": [
        "# 34. Write a NumPy function that returns elements from an array where both two conditions are satisfied using boolean indexing.\n",
        "\n",
        "def fil_elem_cond(arr, cond_1, cond_2):\n",
        "\n",
        "  return arr[np.logical_and(cond_1,cond_2)]\n",
        "\n",
        "\n",
        "arr = np.array([1, 5, 3, 8, 2, 10])\n",
        "cond_1 = arr > 3\n",
        "cond_2 = arr % 2 == 0\n",
        "print(\"Filtered Elements with Both Conditions Satisfied:\", fil_elem_cond(arr, cond_1, cond_2))"
      ],
      "metadata": {
        "colab": {
          "base_uri": "https://localhost:8080/"
        },
        "id": "sedXCzlyNG0l",
        "outputId": "98672058-5f2e-4ae0-be0c-443f93710d3a"
      },
      "execution_count": null,
      "outputs": [
        {
          "output_type": "stream",
          "name": "stdout",
          "text": [
            "Filtered Elements with Both Conditions Satisfied: [ 8 10]\n"
          ]
        }
      ]
    },
    {
      "cell_type": "code",
      "source": [
        "# 35. Create a NumPy function that extracts elements from a 2D array using row and column indices provided in separate arrays.\n",
        "\n",
        "def extract_elem(arr,row_indices,col_indices):\n",
        "\n",
        "  return arr[row_indices,col_indices]\n",
        "\n",
        "arr = np.array([[2,4,9],\n",
        "                  [8,1,3],\n",
        "                  [7,3,5]])\n",
        "row_indices = np.array([0,1,2])\n",
        "col_indices = np.array([1,2,1])\n",
        "print(\"Extracted elements: \\n\", extract_elem(arr,row_indices,col_indices))"
      ],
      "metadata": {
        "colab": {
          "base_uri": "https://localhost:8080/"
        },
        "id": "mSaJm2bUNG3p",
        "outputId": "50c9d881-5752-4960-cdb3-12f1e421db91"
      },
      "execution_count": null,
      "outputs": [
        {
          "output_type": "stream",
          "name": "stdout",
          "text": [
            "Extracted elements: \n",
            " [4 3 3]\n"
          ]
        }
      ]
    },
    {
      "cell_type": "code",
      "source": [
        "# 36. Given an array arr of shape (3, 3), add a scalar value of 5 to each element using NumPy broadcasting.\n",
        "\n",
        "arr = np.array([[2,4,9],\n",
        "                  [8,1,3],\n",
        "                  [7,3,5]])\n",
        "\n",
        "result = arr + 5\n",
        "print(\"Result after adding 5 to each element: \\n\",result)"
      ],
      "metadata": {
        "colab": {
          "base_uri": "https://localhost:8080/"
        },
        "id": "PYghiDrII3Iu",
        "outputId": "304c062f-c55f-452b-a649-e58365cef42e"
      },
      "execution_count": null,
      "outputs": [
        {
          "output_type": "stream",
          "name": "stdout",
          "text": [
            "Result after adding 5 to each element: \n",
            " [[ 7  9 14]\n",
            " [13  6  8]\n",
            " [12  8 10]]\n"
          ]
        }
      ]
    },
    {
      "cell_type": "code",
      "source": [
        "# 37. Consider two arrays arr1 of shape (1, 3) and arr2 of shape (3, 4). Multiply each row of arr2 by the corresponding element in arr1 using NumPy broadcasting.\n",
        "\n",
        "arr1 = np.array([[2, 3, 4]])\n",
        "arr2 = np.array([[1, 2, 3, 4],\n",
        "                 [5, 6, 7, 8],\n",
        "                 [9, 10, 11, 12]])\n",
        "\n",
        "result = arr1.T * arr2\n",
        "\n",
        "print(\"Result after multiplying each row of arr2 by the corresponding element in arr1:\")\n",
        "print(result)\n"
      ],
      "metadata": {
        "colab": {
          "base_uri": "https://localhost:8080/"
        },
        "id": "jrH5F6UZ1ubU",
        "outputId": "c7c62298-7d43-4546-be8d-424ff7b2854a"
      },
      "execution_count": null,
      "outputs": [
        {
          "output_type": "stream",
          "name": "stdout",
          "text": [
            "Result after multiplying each row of arr2 by the corresponding element in arr1:\n",
            "[[ 2  4  6  8]\n",
            " [15 18 21 24]\n",
            " [36 40 44 48]]\n"
          ]
        }
      ]
    },
    {
      "cell_type": "code",
      "source": [
        "# 38. Given a 1D array arr1 of shape (1, 4) and a 2D array arr2 of shape (4, 3), add arr1 to each row of arr2 using NumPy broadcasting.\n",
        "\n",
        "arr1 = np.array([[1, 2, 3, 4]])\n",
        "arr2 = np.array([[5, 6, 7],\n",
        "                 [8, 9, 10],\n",
        "                 [11, 12, 13],\n",
        "                 [14, 15, 16]])\n",
        "result = arr1.T + arr2\n",
        "\n",
        "print(\"Result after adding arr1 to each row of arr2:\")\n",
        "print(result)"
      ],
      "metadata": {
        "colab": {
          "base_uri": "https://localhost:8080/"
        },
        "id": "D8dM_Jqd1ueJ",
        "outputId": "1eea53db-f3a9-45a7-e53c-f43306f60f57"
      },
      "execution_count": null,
      "outputs": [
        {
          "output_type": "stream",
          "name": "stdout",
          "text": [
            "Result after adding arr1 to each row of arr2:\n",
            "[[ 6  7  8]\n",
            " [10 11 12]\n",
            " [14 15 16]\n",
            " [18 19 20]]\n"
          ]
        }
      ]
    },
    {
      "cell_type": "code",
      "source": [
        "# 39. Consider two arrays arr1 of shape (3, 1) and arr2 of shape (1, 3). Add these arrays using NumPy broadcasting.\n",
        "\n",
        "arr1 = np.array([[1],\n",
        "                  [2],\n",
        "                  [3]])\n",
        "arr2 = np.array([[4, 5, 6]])\n",
        "\n",
        "result = arr1 + arr2\n",
        "\n",
        "print(\"Result after adding:\")\n",
        "print(result)"
      ],
      "metadata": {
        "colab": {
          "base_uri": "https://localhost:8080/"
        },
        "id": "zBFNOYZ_1ug3",
        "outputId": "aa927f26-a914-42a5-ebfa-867c33d9a41a"
      },
      "execution_count": null,
      "outputs": [
        {
          "output_type": "stream",
          "name": "stdout",
          "text": [
            "Result after adding:\n",
            "[[5 6 7]\n",
            " [6 7 8]\n",
            " [7 8 9]]\n"
          ]
        }
      ]
    },
    {
      "cell_type": "code",
      "source": [
        "# 40. Given arrays arr1 of shape (2, 3) and arr2 of shape (2, 2), perform multiplication using NumPy broadcasting. Handle the shape incompatibility.\n",
        "\n",
        "arr1 = np.array([[1, 2, 3],\n",
        "                  [4, 5, 6]])\n",
        "arr2 = np.array([[1, 2],\n",
        "                  [3, 4]])\n",
        "\n",
        "result = arr1 * np.reshape(arr2,(2,2,1))\n",
        "print(\"Result after multiplication:\")\n",
        "print(result)\n"
      ],
      "metadata": {
        "colab": {
          "base_uri": "https://localhost:8080/"
        },
        "id": "nbhcu_P41ujn",
        "outputId": "34d81056-acbc-4daf-8e79-f5f42ab0d3f4"
      },
      "execution_count": null,
      "outputs": [
        {
          "output_type": "stream",
          "name": "stdout",
          "text": [
            "Result after multiplication:\n",
            "[[[ 1  2  3]\n",
            "  [ 8 10 12]]\n",
            "\n",
            " [[ 3  6  9]\n",
            "  [16 20 24]]]\n"
          ]
        }
      ]
    },
    {
      "cell_type": "code",
      "source": [
        "# 41. Calculate column wise mean for the given array:\n",
        "\n",
        "arr = np.array([[1, 2, 3], [4, 5, 6]])\n",
        "print(np.mean(arr, axis  =1))"
      ],
      "metadata": {
        "colab": {
          "base_uri": "https://localhost:8080/"
        },
        "id": "82jdnb3M1umi",
        "outputId": "b5042d27-b923-4dc2-9a82-3a4250ccd9fd"
      },
      "execution_count": null,
      "outputs": [
        {
          "output_type": "stream",
          "name": "stdout",
          "text": [
            "[2. 5.]\n"
          ]
        }
      ]
    },
    {
      "cell_type": "code",
      "source": [
        "# 42. Find maximum value in each row of the given array:\n",
        "\n",
        "arr = np.array([[1, 2, 3], [4, 5, 6]])\n",
        "print(np.max(arr,axis = 1))"
      ],
      "metadata": {
        "colab": {
          "base_uri": "https://localhost:8080/"
        },
        "id": "vIRYh7qE1upZ",
        "outputId": "7f050d87-b4e1-4a81-c6b7-9f68b4bc22fd"
      },
      "execution_count": null,
      "outputs": [
        {
          "output_type": "stream",
          "name": "stdout",
          "text": [
            "[3 6]\n"
          ]
        }
      ]
    },
    {
      "cell_type": "code",
      "source": [
        "# 43. For the given array, find indices of maximum value in each column\n",
        "\n",
        "arr = np.array([[1, 2, 3], [4, 5, 6]])\n",
        "print(np.argmax(arr, axis = 1))"
      ],
      "metadata": {
        "colab": {
          "base_uri": "https://localhost:8080/"
        },
        "id": "VeqOU1iR1uso",
        "outputId": "6c5f7227-5005-40b3-d8ba-51d688cca6c0"
      },
      "execution_count": null,
      "outputs": [
        {
          "output_type": "stream",
          "name": "stdout",
          "text": [
            "[2 2]\n"
          ]
        }
      ]
    },
    {
      "cell_type": "code",
      "source": [
        "# 44. For the given array, apply custom function to calculate moving sum along rows.\n",
        "\n",
        "arr = np.array([[1, 2, 3], [4, 5, 6]])\n",
        "\n",
        "print(np.cumsum(arr, axis = 1))"
      ],
      "metadata": {
        "colab": {
          "base_uri": "https://localhost:8080/"
        },
        "id": "sY9IIZ9vIIOl",
        "outputId": "aaa592dc-a92c-4e5b-8a06-a75ee2b14d02"
      },
      "execution_count": null,
      "outputs": [
        {
          "output_type": "stream",
          "name": "stdout",
          "text": [
            "[[ 1  3  6]\n",
            " [ 4  9 15]]\n"
          ]
        }
      ]
    },
    {
      "cell_type": "code",
      "source": [
        "# 45. In the given array, check if all elements in each column are even.\n",
        "\n",
        "arr = np.array([[2, 4, 6], [3, 5, 7]])\n",
        "\n",
        "all_even = np.all(arr % 2 == 0, axis=0)\n",
        "\n",
        "print(\"Are all elements in each column even?\", all_even)"
      ],
      "metadata": {
        "colab": {
          "base_uri": "https://localhost:8080/"
        },
        "id": "cx8yj7AAIIRf",
        "outputId": "50696d56-5c47-40a1-e0bc-f22ea06b497e"
      },
      "execution_count": null,
      "outputs": [
        {
          "output_type": "stream",
          "name": "stdout",
          "text": [
            "Are all elements in each column even? [False False False]\n"
          ]
        }
      ]
    },
    {
      "cell_type": "code",
      "source": [
        "# 46. Given a NumPy array arr, reshape it into a matrix of dimensions `m` rows and `n` columns. Return the reshaped matrix.\n",
        "\n",
        "original_array = np.array([1, 2, 3, 4, 5, 6])\n",
        "\n",
        "m, n = 2,3\n",
        "arr = np.reshape(original_array,(m,n))\n",
        "print(arr)"
      ],
      "metadata": {
        "colab": {
          "base_uri": "https://localhost:8080/"
        },
        "id": "_7e8Z2KAIIUl",
        "outputId": "75591f74-b91d-4239-dc2e-9fadea6f44d5"
      },
      "execution_count": null,
      "outputs": [
        {
          "output_type": "stream",
          "name": "stdout",
          "text": [
            "[[1 2 3]\n",
            " [4 5 6]]\n"
          ]
        }
      ]
    },
    {
      "cell_type": "code",
      "source": [
        "# 47. Create a function that takes a matrix as input and returns the flattened array.\n",
        "\n",
        "input_matrix = np.array([[1, 2, 3], [4, 5, 6]])\n",
        "\n",
        "def flatten_arr(input_matrix):\n",
        "\n",
        "  return input_matrix.flatten()\n",
        "\n",
        "print(flatten_arr(input_matrix))"
      ],
      "metadata": {
        "colab": {
          "base_uri": "https://localhost:8080/"
        },
        "id": "RFdzD3ycIIXl",
        "outputId": "385ae015-6dd4-4738-c5e0-1944ca924081"
      },
      "execution_count": null,
      "outputs": [
        {
          "output_type": "stream",
          "name": "stdout",
          "text": [
            "[1 2 3 4 5 6]\n"
          ]
        }
      ]
    },
    {
      "cell_type": "code",
      "source": [
        "# 48. Write a function that concatenates two given arrays along a specified axis.\n",
        "\n",
        "array1 = np.array([[1, 2], [3, 4]])\n",
        "array2 = np.array([[5, 6], [7, 8]])\n",
        "\n",
        "def concat_arr(array1, array2, axis):\n",
        "\n",
        "  return np.concatenate((array1, array2), axis = axis)\n",
        "\n",
        "print(concat_arr(array1, array2, axis = 1),\"\\n\")\n",
        "print(concat_arr(array1, array2, axis = 0))"
      ],
      "metadata": {
        "colab": {
          "base_uri": "https://localhost:8080/"
        },
        "id": "CH3oLHLvIIan",
        "outputId": "39d2dfdb-c20c-43ac-9a15-95ea8eed100f"
      },
      "execution_count": null,
      "outputs": [
        {
          "output_type": "stream",
          "name": "stdout",
          "text": [
            "[[1 2 5 6]\n",
            " [3 4 7 8]] \n",
            "\n",
            "[[1 2]\n",
            " [3 4]\n",
            " [5 6]\n",
            " [7 8]]\n"
          ]
        }
      ]
    },
    {
      "cell_type": "code",
      "source": [
        "# 49. Create a function that splits an array into multiple sub-arrays along a specified axis.\n",
        "\n",
        "original_array = np.array([[1, 2, 3], [4, 5, 6], [7, 8, 9]])\n",
        "\n",
        "def split_arr(original_array, num_split, axis):\n",
        "\n",
        "  return np.split(original_array, num_split, axis= axis)\n",
        "\n",
        "num_split = 3\n",
        "splt_arr = split_arr(original_array, num_split, axis=0)\n",
        "print(splt_arr[0])\n",
        "print(splt_arr[1])\n",
        "print(splt_arr[2])"
      ],
      "metadata": {
        "colab": {
          "base_uri": "https://localhost:8080/"
        },
        "id": "WeWtw-EXIIdj",
        "outputId": "0196aa0b-ae58-4f82-9e09-aff902c29e14"
      },
      "execution_count": null,
      "outputs": [
        {
          "output_type": "stream",
          "name": "stdout",
          "text": [
            "[[1 2 3]]\n",
            "[[4 5 6]]\n",
            "[[7 8 9]]\n"
          ]
        }
      ]
    },
    {
      "cell_type": "code",
      "source": [
        "# 50. Write a function that inserts and then deletes elements from a given array at specified indices.\n",
        "\n",
        "original_array = np.array([1, 2, 3, 4, 5])\n",
        "indices_to_insert = [2, 4]\n",
        "values_to_insert = [10, 11]\n",
        "indices_to_delete = [1, 3]\n",
        "\n",
        "def arr_elem(original_array, indices_to_insert, values_to_insert, indices_to_delete):\n",
        "\n",
        "  modified_arr = np.insert(original_array, indices_to_insert, values_to_insert)\n",
        "  modified_arr = np.delete(original_array, indices_to_delete)\n",
        "  return modified_arr\n",
        "\n",
        "print(arr_elem(original_array, indices_to_insert, values_to_insert, indices_to_delete))"
      ],
      "metadata": {
        "colab": {
          "base_uri": "https://localhost:8080/"
        },
        "id": "1nlXpQR8IIg6",
        "outputId": "6fa2c81c-fffd-4923-e173-2535c0a8f071"
      },
      "execution_count": null,
      "outputs": [
        {
          "output_type": "stream",
          "name": "stdout",
          "text": [
            "[1 3 5]\n"
          ]
        }
      ]
    },
    {
      "cell_type": "code",
      "source": [
        "# 51. Create a NumPy array `arr1` with random integers and another array `arr2` with integers from 1 to 10. Perform element-wise addition between `arr1` and `arr2`.\n",
        "\n",
        "arr1 = np.random.randint(1,100, size = (1,10))\n",
        "arr2 = np.arange(1,11)\n",
        "\n",
        "result = arr1 + arr2\n",
        "print(result)"
      ],
      "metadata": {
        "colab": {
          "base_uri": "https://localhost:8080/"
        },
        "id": "awYQfRd8IIkS",
        "outputId": "9778ec41-2fa2-48bf-f7d7-a0ad554d841f"
      },
      "execution_count": null,
      "outputs": [
        {
          "output_type": "stream",
          "name": "stdout",
          "text": [
            "[[  3  45  47  59  32  53  75  59  55 103]]\n"
          ]
        }
      ]
    },
    {
      "cell_type": "code",
      "source": [
        "# 52. Generate a NumPy array `arr1` with sequential integers from 10 to 1 and another array `arr2` with integers from 1 to 10. Subtract `arr2` from `arr1` element-wise.\n",
        "\n",
        "arr1 = np.arange(10,1, -1)\n",
        "arr2 = np.arange(1,10)\n",
        "\n",
        "result = arr2 - arr1\n",
        "\n",
        "print(result)"
      ],
      "metadata": {
        "colab": {
          "base_uri": "https://localhost:8080/"
        },
        "id": "NBE0gmaXIInD",
        "outputId": "ab759700-6a29-4f9a-b654-63be0fefb4c0"
      },
      "execution_count": null,
      "outputs": [
        {
          "output_type": "stream",
          "name": "stdout",
          "text": [
            "[-9 -7 -5 -3 -1  1  3  5  7]\n"
          ]
        }
      ]
    },
    {
      "cell_type": "code",
      "source": [
        "# 53. Create a NumPy array `arr1` with random integers and another array `arr2` with integers from 1 to 5. Perform element-wise multiplication between `arr1` and `arr2`.\n",
        "\n",
        "arr1 = np.random.randint(1,50, size = (1,5))\n",
        "arr2 = np.arange(1,6)\n",
        "\n",
        "result = arr1 * arr2\n",
        "\n",
        "print(result)"
      ],
      "metadata": {
        "colab": {
          "base_uri": "https://localhost:8080/"
        },
        "id": "UuVuihPqIIqH",
        "outputId": "48af351b-2ebb-4d19-b9fc-24556aa1c88e"
      },
      "execution_count": null,
      "outputs": [
        {
          "output_type": "stream",
          "name": "stdout",
          "text": [
            "[[ 32  30 123   8 195]]\n"
          ]
        }
      ]
    },
    {
      "cell_type": "code",
      "source": [
        "# 54. Generate a NumPy array `arr1` with even integers from 2 to 10 and another array `arr2` with integers from 1 to 5. Perform element-wise division of `arr1` by `arr2`.\n",
        "\n",
        "arr1 = np.arange(2,11,2)\n",
        "arr2 = np.arange(1,6)\n",
        "\n",
        "result = arr1/arr2\n",
        "\n",
        "print(result)"
      ],
      "metadata": {
        "colab": {
          "base_uri": "https://localhost:8080/"
        },
        "id": "yuDXy2kTIItk",
        "outputId": "028f7239-6909-4706-a4eb-488038f819ba"
      },
      "execution_count": null,
      "outputs": [
        {
          "output_type": "stream",
          "name": "stdout",
          "text": [
            "[2. 2. 2. 2. 2.]\n"
          ]
        }
      ]
    },
    {
      "cell_type": "code",
      "source": [
        "# 55. Create a NumPy array `arr1` with integers from 1 to 5 and another array `arr2` with the same numbers reversed. Calculate the exponentiation of `arr1` raised to the power of `arr2` element-wise.\n",
        "\n",
        "arr1 = np.arange(1,6)\n",
        "arr2 = np.flip(arr1)\n",
        "\n",
        "result = arr1 ** arr2\n",
        "\n",
        "print(result)"
      ],
      "metadata": {
        "colab": {
          "base_uri": "https://localhost:8080/"
        },
        "id": "H31CsoiVUU52",
        "outputId": "d53e0eea-8aff-47e3-a18c-dc2d72252a26"
      },
      "execution_count": null,
      "outputs": [
        {
          "output_type": "stream",
          "name": "stdout",
          "text": [
            "[ 1 16 27 16  5]\n"
          ]
        }
      ]
    },
    {
      "cell_type": "code",
      "source": [
        "# 56. Write a function that counts the occurrences of a specific substring within a NumPy array of strings.\n",
        "\n",
        "arr = np.array(['hello', 'world', 'hello', 'numpy', 'hello'])\n",
        "\n",
        "def occurence(arr, sub_string):\n",
        "\n",
        "  count = 0\n",
        "  for string in arr:\n",
        "    count+= string.count(sub_string)\n",
        "  return count\n",
        "\n",
        "sub_string =  'hello'\n",
        "print(f\"Number of occurrences of '{sub_string}':\", occurence(arr,sub_string ))"
      ],
      "metadata": {
        "colab": {
          "base_uri": "https://localhost:8080/"
        },
        "id": "-lxtFTYtUU9v",
        "outputId": "8174bfa1-177d-4983-f935-44bd6792f6f4"
      },
      "execution_count": null,
      "outputs": [
        {
          "output_type": "stream",
          "name": "stdout",
          "text": [
            "Number of occurrences of 'hello': 3\n"
          ]
        }
      ]
    },
    {
      "cell_type": "code",
      "source": [
        "  # 57. Write a function that extracts uppercase characters from a NumPy array of strings.\n",
        "\n",
        "  arr = np.array(['Hello', 'World', 'OpenAI', 'GPT'])\n",
        "\n",
        "  def extract_upper(arr):\n",
        "\n",
        "    upper_char = ''\n",
        "    for string in arr:\n",
        "      for char in string:\n",
        "        if char.isupper():\n",
        "          upper_char+= char\n",
        "    return upper_char\n",
        "\n",
        "print(extract_upper(arr))"
      ],
      "metadata": {
        "colab": {
          "base_uri": "https://localhost:8080/"
        },
        "id": "6GB2Vw2VUU_m",
        "outputId": "589af4ec-f17b-4e52-c4b2-950c437cf8ad"
      },
      "execution_count": null,
      "outputs": [
        {
          "output_type": "stream",
          "name": "stdout",
          "text": [
            "HWOAIGPT\n"
          ]
        }
      ]
    },
    {
      "cell_type": "code",
      "source": [
        "# 58. Write a function that replaces occurrences of a substring in a NumPy array of strings with a new string.\n",
        "\n",
        "arr = np.array(['apple', 'banana', 'grape', 'pineapple'])\n",
        "\n",
        "def replace_string(arr, old_sub, new_sub):\n",
        "\n",
        "  rep = np.char.replace(arr,old_sub,new_sub)\n",
        "  return rep\n",
        "\n",
        "old_sub = 'banana'\n",
        "new_sub = 'mango'\n",
        "print(replace_string(arr,old_sub,new_sub  ))"
      ],
      "metadata": {
        "colab": {
          "base_uri": "https://localhost:8080/"
        },
        "id": "DkHeWGOyUVB_",
        "outputId": "1207f6b4-6125-4abc-88db-82d9f4e1442b"
      },
      "execution_count": null,
      "outputs": [
        {
          "output_type": "stream",
          "name": "stdout",
          "text": [
            "['apple' 'mango' 'grape' 'pineapple']\n"
          ]
        }
      ]
    },
    {
      "cell_type": "code",
      "source": [
        "# 59. Write a function that concatenates strings in a NumPy array element-wise.\n",
        "\n",
        "arr1 = np.array(['Hello', 'World'])\n",
        "arr2 = np.array(['Open', 'AI'])\n",
        "\n",
        "def concat_string(arr1,arr2):\n",
        "\n",
        "  concat = np.char.add(arr1,arr2)\n",
        "  return concat\n",
        "\n",
        "print(concat_string(arr1,arr2))"
      ],
      "metadata": {
        "colab": {
          "base_uri": "https://localhost:8080/"
        },
        "id": "buCh3EZUX1uZ",
        "outputId": "e323cdc6-7ffb-442b-e965-6909921e60f1"
      },
      "execution_count": null,
      "outputs": [
        {
          "output_type": "stream",
          "name": "stdout",
          "text": [
            "['HelloOpen' 'WorldAI']\n"
          ]
        }
      ]
    },
    {
      "cell_type": "code",
      "source": [
        "# 60. Write a function that finds the length of the longest string in a NumPy array.\n",
        "\n",
        "arr = np.array(['apple', 'banana', 'grape', 'pineapple'])\n",
        "\n",
        "def longest_string_length(arr):\n",
        "\n",
        "  max_length = np.max(np.vectorize(len)(arr))\n",
        "  return max_length\n",
        "\n",
        "print(\"Length of the longest string: \", longest_string_length(arr))"
      ],
      "metadata": {
        "id": "vz4att8wX1xu",
        "colab": {
          "base_uri": "https://localhost:8080/"
        },
        "outputId": "32e32ad4-2976-46b8-f1dc-ce1ac72fe969"
      },
      "execution_count": 3,
      "outputs": [
        {
          "output_type": "stream",
          "name": "stdout",
          "text": [
            "Length of the longest string:  9\n"
          ]
        }
      ]
    },
    {
      "cell_type": "code",
      "source": [
        "# 61. Create a dataset of 100 random integers between 1 and 1000. Compute the mean, median, variance, and standard deviation of the dataset using NumPy's functions.\n",
        "\n",
        "dataset = np.random.randint(1,1000, size = 100)\n",
        "\n",
        "mean = np.mean(dataset)\n",
        "median = np.median(dataset)\n",
        "variance = np.var(dataset)\n",
        "std_deviation = np.std(dataset)\n",
        "\n",
        "print(\"Dataset:\", dataset)\n",
        "print(\"Mean:\", mean)\n",
        "print(\"Median:\", median)\n",
        "print(\"Variance:\", variance)\n",
        "print(\"Standard deviation:\", std_deviation)"
      ],
      "metadata": {
        "id": "0TXFcYSQX10q",
        "colab": {
          "base_uri": "https://localhost:8080/"
        },
        "outputId": "4c4de9e7-808f-4bda-daa3-606ddfd5921d"
      },
      "execution_count": 4,
      "outputs": [
        {
          "output_type": "stream",
          "name": "stdout",
          "text": [
            "Dataset: [474 850 219 787 238 745 725 386  82 939 832 837 497 251 987 590 973 600\n",
            " 568 885 605 557 811 492 644 798 948 823 932 745 870  55 571 299 276  77\n",
            " 909 813 891 626 770 132 693 322 648 609 945 650 331 849   2 666 792 790\n",
            " 864 594 528 687 936 176  45 475   8 986 274  39  72 878 283 674 833 373\n",
            " 488 927 544 539 175 213  39 193 536 955 147 715 782 737 298 265 452 201\n",
            " 415 180 943 889 942  42 101 532 327 585]\n",
            "Mean: 552.93\n",
            "Median: 592.0\n",
            "Variance: 88194.3851\n",
            "Standard deviation: 296.97539477202486\n"
          ]
        }
      ]
    },
    {
      "cell_type": "code",
      "source": [
        "# 62. Generate an array of 50 random numbers between 1 and 100. Find the 25th and 75th percentiles of the dataset.\n",
        "\n",
        "dataset = np.random.randint(1,100, size = 50)\n",
        "\n",
        "percentile_25 = np.percentile(dataset, 25)\n",
        "percentile_75 = np.percentile(dataset, 75)\n",
        "\n",
        "print(\"Dataset:\", dataset)\n",
        "print(\"25th Percentile:\", percentile_25)\n",
        "print(\"75th Percentile:\", percentile_75)"
      ],
      "metadata": {
        "id": "S9s22ZGMX13H",
        "colab": {
          "base_uri": "https://localhost:8080/"
        },
        "outputId": "ec2cbbba-c742-4bda-df66-a7d3317467f8"
      },
      "execution_count": 9,
      "outputs": [
        {
          "output_type": "stream",
          "name": "stdout",
          "text": [
            "Dataset: [65 95 12  2 64 33 53 73 64  8 79 39 67 73 61 86 18 63 18 69 91 25 39 41\n",
            " 78 49 31 61 54 16 27 58 71 65 31  3  8 76 75 81 91 74 86 21 63 70 51 75\n",
            " 93  1]\n",
            "25th Percentile: 31.0\n",
            "75th Percentile: 73.75\n"
          ]
        }
      ]
    },
    {
      "cell_type": "code",
      "source": [
        "# 63. Create two arrays representing two sets of variables. Compute the correlation coefficient between these arrays using NumPy's `corrcoef` function.\n",
        "\n",
        "set1 = np.array([1, 2, 3, 4, 5])\n",
        "set2 = np.array([2, 3, 4, 5, 6])\n",
        "\n",
        "corr_coef = np.corrcoef(set1, set2)[0,1]\n",
        "\n",
        "print(\"Array 1:\", set1)\n",
        "print(\"Array 2:\", set2)\n",
        "print(\"Correlation Coefficient:\", corr_coef)"
      ],
      "metadata": {
        "colab": {
          "base_uri": "https://localhost:8080/"
        },
        "id": "gsFkQe3o-T6e",
        "outputId": "871cc6a5-be12-493f-e6d7-843f4fed8eef"
      },
      "execution_count": 12,
      "outputs": [
        {
          "output_type": "stream",
          "name": "stdout",
          "text": [
            "Array 1: [1 2 3 4 5]\n",
            "Array 2: [2 3 4 5 6]\n",
            "Correlation Coefficient: 0.9999999999999999\n"
          ]
        }
      ]
    },
    {
      "cell_type": "code",
      "source": [
        "# 64. Create two matrices and perform matrix multiplication using NumPy's `dot` function.\n",
        "\n",
        "matrix1 = np.array([[1, 2, 3],\n",
        "                    [4, 5, 6]])\n",
        "matrix2 = np.array([[7, 8],\n",
        "                    [9, 10],\n",
        "                    [11, 12]])\n",
        "\n",
        "result = np.dot(matrix1, matrix2)\n",
        "\n",
        "print(\"Matrix 1:\")\n",
        "print(matrix1)\n",
        "print(\"\\nMatrix 2:\")\n",
        "print(matrix2)\n",
        "print(\"\\nResult of matrix multiplication:\")\n",
        "print(result)\n"
      ],
      "metadata": {
        "colab": {
          "base_uri": "https://localhost:8080/"
        },
        "id": "hJyTBpLgB-1p",
        "outputId": "544fd543-df95-4d4d-c7c9-c4f4c0ad8852"
      },
      "execution_count": 13,
      "outputs": [
        {
          "output_type": "stream",
          "name": "stdout",
          "text": [
            "Matrix 1:\n",
            "[[1 2 3]\n",
            " [4 5 6]]\n",
            "\n",
            "Matrix 2:\n",
            "[[ 7  8]\n",
            " [ 9 10]\n",
            " [11 12]]\n",
            "\n",
            "Result of matrix multiplication:\n",
            "[[ 58  64]\n",
            " [139 154]]\n"
          ]
        }
      ]
    },
    {
      "cell_type": "code",
      "source": [
        "# 65. Create an array of 50 integers between 10 and 1000. Calculate the 10th, 50th (median), and 90th percentiles along with the first and third quartiles.\n",
        "\n",
        "random_integers = np.random.randint(10, 1001, size=50)\n",
        "\n",
        "percentiles = np.percentile(random_integers, [10, 50, 90])\n",
        "first_quartile = np.percentile(random_integers, 25)\n",
        "third_quartile = np.percentile(random_integers, 75)\n",
        "\n",
        "print(\"Random integers:\", random_integers)\n",
        "print(\"\\n10th Percentile:\", percentiles[0])\n",
        "print(\"Median (50th Percentile):\", percentiles[1])\n",
        "print(\"90th Percentile:\", percentiles[2])\n",
        "print(\"First Quartile:\", first_quartile)\n",
        "print(\"Third Quartile:\", third_quartile)\n"
      ],
      "metadata": {
        "colab": {
          "base_uri": "https://localhost:8080/"
        },
        "id": "bcFngn7oB-5W",
        "outputId": "87b03fae-4400-406e-e847-0fb7c5b9a73c"
      },
      "execution_count": 14,
      "outputs": [
        {
          "output_type": "stream",
          "name": "stdout",
          "text": [
            "Random integers: [332 567 757 699 768 125 212 215 132  75 277 835 790 145 191 241 218 832\n",
            " 635 389 583 320 161 272 153  63 572  81 489 160 655 245  70 659 853 845\n",
            " 681 529 847 387 840 219 814 461 555 377 288 577 126  96]\n",
            "\n",
            "10th Percentile: 122.10000000000001\n",
            "Median (50th Percentile): 382.0\n",
            "90th Percentile: 832.3\n",
            "First Quartile: 196.25\n",
            "Third Quartile: 658.0\n"
          ]
        }
      ]
    },
    {
      "cell_type": "code",
      "source": [
        "# 66. Create a NumPy array of integers and find the index of a specific element.\n",
        "\n",
        "array = np.array([10, 20, 30, 40, 50])\n",
        "\n",
        "element = 30\n",
        "index = np.where(array == element)[0]\n",
        "\n",
        "print(\"Array:\", array)\n",
        "print(\"Index of\", element, \":\", index)\n"
      ],
      "metadata": {
        "colab": {
          "base_uri": "https://localhost:8080/"
        },
        "id": "uHu6atyYB-8Z",
        "outputId": "d6f3accd-3e95-49d4-d66d-2319ee6fd5d8"
      },
      "execution_count": 16,
      "outputs": [
        {
          "output_type": "stream",
          "name": "stdout",
          "text": [
            "Array: [10 20 30 40 50]\n",
            "Index of 30 : [2]\n"
          ]
        }
      ]
    },
    {
      "cell_type": "code",
      "source": [
        "# 67. Generate a random NumPy array and sort it in ascending order.\n",
        "\n",
        "random_array = np.random.rand(10)\n",
        "\n",
        "sorted_array = np.sort(random_array)\n",
        "\n",
        "print(\"Random Array:\", random_array)\n",
        "print(\"Sorted Array:\", sorted_array)\n"
      ],
      "metadata": {
        "colab": {
          "base_uri": "https://localhost:8080/"
        },
        "id": "u40OUR75B-_n",
        "outputId": "2dd356ac-9232-4834-f886-cff69283487c"
      },
      "execution_count": 20,
      "outputs": [
        {
          "output_type": "stream",
          "name": "stdout",
          "text": [
            "Random Array: [0.36825868 0.13780251 0.56421875 0.1024306  0.95006709 0.08909683\n",
            " 0.7219138  0.61858299 0.29520079 0.49147466]\n",
            "Sorted Array: [0.08909683 0.1024306  0.13780251 0.29520079 0.36825868 0.49147466\n",
            " 0.56421875 0.61858299 0.7219138  0.95006709]\n"
          ]
        }
      ]
    },
    {
      "cell_type": "code",
      "source": [
        "# 68. Filter elements >20  in the given NumPy array.\n",
        "\n",
        "arr = np.array([12, 25, 6, 42, 8, 30])\n",
        "\n",
        "filtered_arr = arr[arr > 20]\n",
        "\n",
        "print(\"Original Array:\", arr)\n",
        "print(\"Filtered Array:\", filtered_arr)\n"
      ],
      "metadata": {
        "colab": {
          "base_uri": "https://localhost:8080/"
        },
        "id": "TfYLygUnFdjm",
        "outputId": "da8d6e6f-41eb-4bf7-9165-c55f94d20d9f"
      },
      "execution_count": 21,
      "outputs": [
        {
          "output_type": "stream",
          "name": "stdout",
          "text": [
            "Original Array: [12 25  6 42  8 30]\n",
            "Filtered Array: [25 42 30]\n"
          ]
        }
      ]
    },
    {
      "cell_type": "code",
      "source": [
        "# 69. Filter elements which are divisible by 3 from a given NumPy array.\n",
        "\n",
        "arr = np.array([1, 5, 8, 12, 15])\n",
        "\n",
        "filtered_arr = arr[arr % 3 == 0]\n",
        "\n",
        "print(\"Original Array:\", arr)\n",
        "print(\"Filtered Array:\", filtered_arr)"
      ],
      "metadata": {
        "colab": {
          "base_uri": "https://localhost:8080/"
        },
        "id": "5nUyxgSlFdmU",
        "outputId": "3d08e8b2-460b-478e-91f6-58b661e0abd7"
      },
      "execution_count": 23,
      "outputs": [
        {
          "output_type": "stream",
          "name": "stdout",
          "text": [
            "Original Array: [ 1  5  8 12 15]\n",
            "Filtered Array: [12 15]\n"
          ]
        }
      ]
    },
    {
      "cell_type": "code",
      "source": [
        "# 70. Filter elements which are ≥ 20 and ≤ 40 from a given NumPy array.\n",
        "\n",
        "arr = np.array([10, 20, 30, 40, 50])\n",
        "\n",
        "filtered_arr = arr[(arr >= 20) & (arr <= 40)]\n",
        "\n",
        "print(\"Original Array:\", arr)\n",
        "print(\"Filtered Array:\", filtered_arr)"
      ],
      "metadata": {
        "colab": {
          "base_uri": "https://localhost:8080/"
        },
        "id": "lCe4M2wgFdpP",
        "outputId": "9178bf2d-162b-4889-b665-6713376b4f45"
      },
      "execution_count": 28,
      "outputs": [
        {
          "output_type": "stream",
          "name": "stdout",
          "text": [
            "Original Array: [10 20 30 40 50]\n",
            "Filtered Array: [20 30 40]\n"
          ]
        }
      ]
    },
    {
      "cell_type": "code",
      "source": [
        "# 71. For the given NumPy array, check its byte order using the `dtype` attribute byteorder.\n",
        "\n",
        "arr = np.array([1, 2, 3])\n",
        "\n",
        "byte_order = arr.dtype.byteorder\n",
        "\n",
        "print(\"Byte Order:\", byte_order)"
      ],
      "metadata": {
        "colab": {
          "base_uri": "https://localhost:8080/"
        },
        "id": "S6F_ihBmFdr5",
        "outputId": "9dd361d6-d342-4e6d-8258-f1e11f96bec4"
      },
      "execution_count": 29,
      "outputs": [
        {
          "output_type": "stream",
          "name": "stdout",
          "text": [
            "Byte Order: =\n"
          ]
        }
      ]
    },
    {
      "cell_type": "code",
      "source": [
        "# 72. For the given NumPy array, perform byte swapping in place using `byteswap()`.\n",
        "\n",
        "arr = np.array([1, 2, 3], dtype=np.int32)\n",
        "\n",
        "arr.byteswap(True)\n",
        "\n",
        "print(\"After byte swapping:\", arr)"
      ],
      "metadata": {
        "colab": {
          "base_uri": "https://localhost:8080/"
        },
        "id": "-xUYzsFBFdup",
        "outputId": "4cd7bbab-8419-48aa-b90b-249915ed4b9a"
      },
      "execution_count": 30,
      "outputs": [
        {
          "output_type": "stream",
          "name": "stdout",
          "text": [
            "After byte swapping: [16777216 33554432 50331648]\n"
          ]
        }
      ]
    },
    {
      "cell_type": "code",
      "source": [
        "# 73. For the given NumPy array, swap its byte order without modifying the original array using `newbyteorder()`.\n",
        "\n",
        "arr = np.array([1, 2, 3], dtype=np.int32)\n",
        "\n",
        "swapped_arr = arr.newbyteorder()\n",
        "\n",
        "print(\"Original Array:\", arr)\n",
        "print(\"Swapped Array:\", swapped_arr)"
      ],
      "metadata": {
        "colab": {
          "base_uri": "https://localhost:8080/"
        },
        "id": "VPc5dyBzFdxU",
        "outputId": "74782d4a-e657-4e26-d0e5-34322088f4de"
      },
      "execution_count": 31,
      "outputs": [
        {
          "output_type": "stream",
          "name": "stdout",
          "text": [
            "Original Array: [1 2 3]\n",
            "Swapped Array: [16777216 33554432 50331648]\n"
          ]
        }
      ]
    },
    {
      "cell_type": "code",
      "source": [
        "# 74. For the given NumPy array and swap its byte order conditionally based on system endianness using `newbyteorder()`.\n",
        "\n",
        "arr = np.array([1, 2, 3], dtype=np.int32)\n",
        "\n",
        "swapped_arr = arr.newbyteorder()\n",
        "\n",
        "print(\"Original Array:\", arr)\n",
        "print(\"Swapped Array (conditionally):\", swapped_arr)"
      ],
      "metadata": {
        "colab": {
          "base_uri": "https://localhost:8080/"
        },
        "id": "EjiaYBwtFd0v",
        "outputId": "27dafc57-310a-46b4-abc5-d5bf4deebb10"
      },
      "execution_count": 34,
      "outputs": [
        {
          "output_type": "stream",
          "name": "stdout",
          "text": [
            "Original Array: [1 2 3]\n",
            "Swapped Array (conditionally): [16777216 33554432 50331648]\n"
          ]
        }
      ]
    },
    {
      "cell_type": "code",
      "source": [
        "# 75. For the given NumPy array, check if byte swapping is necessary for the current system using `dtype` attribute `byteorder`.\n",
        "\n",
        "arr = np.array([1, 2, 3], dtype=np.int32)\n",
        "\n",
        "array_byte_order = arr.dtype.byteorder\n",
        "system_byte_order = sys.byteorder\n",
        "\n",
        "byte_swapping_needed = array_byte_order != system_byte_order\n",
        "\n",
        "print(\"Array Byte Order:\", array_byte_order)\n",
        "print(\"System Byte Order:\", system_byte_order)\n",
        "print(\"Byte Swapping Needed:\", byte_swapping_needed)"
      ],
      "metadata": {
        "colab": {
          "base_uri": "https://localhost:8080/"
        },
        "id": "rGqRew_yM-JQ",
        "outputId": "c0cdc014-c474-48f0-b452-34e9e1425c44"
      },
      "execution_count": 37,
      "outputs": [
        {
          "output_type": "stream",
          "name": "stdout",
          "text": [
            "Array Byte Order: =\n",
            "System Byte Order: little\n",
            "Byte Swapping Needed: True\n"
          ]
        }
      ]
    },
    {
      "cell_type": "code",
      "source": [
        "# 76. Create a NumPy array `arr1` with values from 1 to 10. Create a copy of `arr1` named `copy_arr` and modify an element in `copy_arr`. Check if modifying `copy_arr` affects `arr1`.\n",
        "\n",
        "arr1 = np.arange(1, 11)\n",
        "copy_arr = arr1.copy()\n",
        "copy_arr[0] = 100\n",
        "\n",
        "print(\"Original arr1:\", arr1)\n",
        "print(\"Modified copy_arr:\", copy_arr)"
      ],
      "metadata": {
        "colab": {
          "base_uri": "https://localhost:8080/"
        },
        "id": "6J_F1AvvM-MP",
        "outputId": "418b4770-3b5e-42df-988a-e0423cb2970c"
      },
      "execution_count": 38,
      "outputs": [
        {
          "output_type": "stream",
          "name": "stdout",
          "text": [
            "Original arr1: [ 1  2  3  4  5  6  7  8  9 10]\n",
            "Modified copy_arr: [100   2   3   4   5   6   7   8   9  10]\n"
          ]
        }
      ]
    },
    {
      "cell_type": "code",
      "source": [
        "# 77. Create a 2D NumPy array `matrix` of shape (3, 3) with random integers. Extract a slice `view_slice` from the matrix. Modify an element in `view_slice` and observe if it changes the original `matrix`.\n",
        "\n",
        "matrix = np.random.randint(0, 10, (3, 3))\n",
        "\n",
        "view_slice = matrix[:2, :2]\n",
        "\n",
        "print(\"Original Matrix:\", matrix)\n",
        "print(\"\\nSlice View:\", view_slice)\n",
        "\n",
        "view_slice[0, 0] = 100\n",
        "\n",
        "print(\"\\nModified Slice View:\",view_slice)\n",
        "print(\"\\nOriginal Matrix After Modification:\",matrix)"
      ],
      "metadata": {
        "colab": {
          "base_uri": "https://localhost:8080/"
        },
        "id": "YWbOO4e_M-O8",
        "outputId": "85009db5-34a5-4bc8-d1b7-4a9a4cde6335"
      },
      "execution_count": 39,
      "outputs": [
        {
          "output_type": "stream",
          "name": "stdout",
          "text": [
            "Original Matrix: [[7 0 8]\n",
            " [1 5 0]\n",
            " [1 2 7]]\n",
            "\n",
            "Slice View: [[7 0]\n",
            " [1 5]]\n",
            "\n",
            "Modified Slice View: [[100   0]\n",
            " [  1   5]]\n",
            "\n",
            "Original Matrix After Modification: [[100   0   8]\n",
            " [  1   5   0]\n",
            " [  1   2   7]]\n"
          ]
        }
      ]
    },
    {
      "cell_type": "code",
      "source": [
        "# 78. Create a NumPy array `array_a` of shape (4, 3) with sequential integers from 1 to 12. Extract a slice `view_b` from `array_a` and broadcast the addition of 5 to view_b. Check if it alters the original `array_a`.\n",
        "\n",
        "array_a = np.arange(1, 13).reshape(4, 3)\n",
        "\n",
        "view_b = array_a[:2, :2]\n",
        "\n",
        "view_b += 5\n",
        "\n",
        "print(\"Original array_a:\", array_a)"
      ],
      "metadata": {
        "colab": {
          "base_uri": "https://localhost:8080/"
        },
        "id": "yCcwD2aHM-SB",
        "outputId": "306b5863-71f4-436d-e7e9-1de5a9812412"
      },
      "execution_count": 41,
      "outputs": [
        {
          "output_type": "stream",
          "name": "stdout",
          "text": [
            "Original array_a: [[ 6  7  3]\n",
            " [ 9 10  6]\n",
            " [ 7  8  9]\n",
            " [10 11 12]]\n"
          ]
        }
      ]
    },
    {
      "cell_type": "code",
      "source": [
        "# 79. Create a NumPy array `orig_array` of shape (2, 4) with values from 1 to 8. Create a reshaped view `reshaped_view` of shape (4, 2) from orig_array. Modify an element in `reshaped_view` and check if it reflects changes in the original `orig_array`.\n",
        "\n",
        "orig_array = np.arange(1, 9).reshape(2, 4)\n",
        "\n",
        "reshaped_view = orig_array.reshape(4, 2)\n",
        "\n",
        "reshaped_view[0, 0] = 100\n",
        "\n",
        "print(\"Original orig_array:\", orig_array)"
      ],
      "metadata": {
        "colab": {
          "base_uri": "https://localhost:8080/"
        },
        "id": "0aK-_IxXM-Vk",
        "outputId": "d2a65e73-0837-4c6d-d39a-8d08c5525e5e"
      },
      "execution_count": 42,
      "outputs": [
        {
          "output_type": "stream",
          "name": "stdout",
          "text": [
            "Original orig_array: [[100   2   3   4]\n",
            " [  5   6   7   8]]\n"
          ]
        }
      ]
    },
    {
      "cell_type": "code",
      "source": [
        "# 80. Create a NumPy array `data` of shape (3, 4) with random integers. Extract a copy `data_copy` of elements greater than 5. Modify an element in `data_copy` and verify if it affects the original `data`.\n",
        "\n",
        "data = np.random.randint(0, 10, (3, 4))\n",
        "\n",
        "data_copy = data[data > 5].copy()\n",
        "\n",
        "data_copy[0] = 100\n",
        "\n",
        "print(\"Original data:\")\n",
        "print(data)"
      ],
      "metadata": {
        "colab": {
          "base_uri": "https://localhost:8080/"
        },
        "id": "pGhvVe72UbQa",
        "outputId": "3878bcfc-2751-4899-e665-3eb968d3d57f"
      },
      "execution_count": 46,
      "outputs": [
        {
          "output_type": "stream",
          "name": "stdout",
          "text": [
            "Original data:\n",
            "[[5 5 7 0]\n",
            " [0 4 0 5]\n",
            " [2 0 6 1]]\n"
          ]
        }
      ]
    },
    {
      "cell_type": "code",
      "source": [
        "# 81. Create two matrices A and B of identical shape containing integers and perform addition and subtraction operations between them.\n",
        "\n",
        "A = np.array([[1, 2, 3],\n",
        "              [4, 5, 6],\n",
        "              [7, 8, 9]])\n",
        "\n",
        "B = np.array([[9, 8, 7],\n",
        "              [6, 5, 4],\n",
        "              [3, 2, 1]])\n",
        "\n",
        "add_result = A + B\n",
        "sub_result = A - B\n",
        "\n",
        "print(\"Matrix A:\\n\", A)\n",
        "print(\"\\nMatrix B:\\n\", B)\n",
        "print(\"\\nAddition Result:\\n\", add_result)\n",
        "print(\"\\nSubtraction Result:\\n\", sub_result)"
      ],
      "metadata": {
        "colab": {
          "base_uri": "https://localhost:8080/"
        },
        "id": "cr3B6eM4UbXl",
        "outputId": "c31aaf1f-aaec-4145-e12b-68618b0d1eb4"
      },
      "execution_count": 47,
      "outputs": [
        {
          "output_type": "stream",
          "name": "stdout",
          "text": [
            "Matrix A:\n",
            " [[1 2 3]\n",
            " [4 5 6]\n",
            " [7 8 9]]\n",
            "\n",
            "Matrix B:\n",
            " [[9 8 7]\n",
            " [6 5 4]\n",
            " [3 2 1]]\n",
            "\n",
            "Addition Result:\n",
            " [[10 10 10]\n",
            " [10 10 10]\n",
            " [10 10 10]]\n",
            "\n",
            "Subtraction Result:\n",
            " [[-8 -6 -4]\n",
            " [-2  0  2]\n",
            " [ 4  6  8]]\n"
          ]
        }
      ]
    },
    {
      "cell_type": "code",
      "source": [
        "# 82. Generate two matrices `C` (3x2) and `D` (2x4) and perform matrix multiplication.\n",
        "\n",
        "C = np.array([[1, 2],\n",
        "              [3, 4],\n",
        "              [5, 6]])\n",
        "\n",
        "D = np.array([[7, 8, 9, 10],\n",
        "              [11, 12, 13, 14]])\n",
        "\n",
        "mult_result = np.dot(C, D)\n",
        "\n",
        "print(\"Matrix C:\\n\", C)\n",
        "print(\"\\nMatrix D:\\n\", D)\n",
        "print(\"\\nMatrix Multiplication Result:\\n\", mult_result)"
      ],
      "metadata": {
        "colab": {
          "base_uri": "https://localhost:8080/"
        },
        "id": "pmrrtvUFUbhT",
        "outputId": "485a68cf-c2f0-44ee-d966-15b299cc05f8"
      },
      "execution_count": 49,
      "outputs": [
        {
          "output_type": "stream",
          "name": "stdout",
          "text": [
            "Matrix C:\n",
            " [[1 2]\n",
            " [3 4]\n",
            " [5 6]]\n",
            "\n",
            "Matrix D:\n",
            " [[ 7  8  9 10]\n",
            " [11 12 13 14]]\n",
            "\n",
            "Matrix Multiplication Result:\n",
            " [[ 29  32  35  38]\n",
            " [ 65  72  79  86]\n",
            " [101 112 123 134]]\n"
          ]
        }
      ]
    },
    {
      "cell_type": "code",
      "source": [
        "# 83. Create a matrix `E` and find its transpose.\n",
        "\n",
        "E = np.array([[1, 2, 3],\n",
        "              [4, 5, 6]])\n",
        "\n",
        "E_transpose = np.transpose(E)\n",
        "\n",
        "print(\"Matrix E:\\n\", E)\n",
        "print(\"\\nTranspose of Matrix E:\\n\", E_transpose)"
      ],
      "metadata": {
        "colab": {
          "base_uri": "https://localhost:8080/"
        },
        "id": "DUqA3U4jUbp1",
        "outputId": "fd3498c6-903a-4d52-af2a-a9b10c073817"
      },
      "execution_count": 50,
      "outputs": [
        {
          "output_type": "stream",
          "name": "stdout",
          "text": [
            "Matrix E:\n",
            " [[1 2 3]\n",
            " [4 5 6]]\n",
            "\n",
            "Transpose of Matrix E:\n",
            " [[1 4]\n",
            " [2 5]\n",
            " [3 6]]\n"
          ]
        }
      ]
    },
    {
      "cell_type": "code",
      "source": [
        "# 84. Generate a square matrix `F` and compute its determinant.\n",
        "\n",
        "F = np.array([[1, 2, 3],\n",
        "              [4, 5, 6],\n",
        "              [7, 8, 9]])\n",
        "\n",
        "determinant_F = np.linalg.det(F)\n",
        "\n",
        "print(\"Matrix F:\\n\", F)\n",
        "print(\"\\nDeterminant of Matrix F:\", determinant_F)"
      ],
      "metadata": {
        "colab": {
          "base_uri": "https://localhost:8080/"
        },
        "id": "gE0VriMUUbzD",
        "outputId": "e52b197b-e0b0-4ca7-f15d-6c4b0946b1eb"
      },
      "execution_count": 51,
      "outputs": [
        {
          "output_type": "stream",
          "name": "stdout",
          "text": [
            "Matrix F:\n",
            " [[1 2 3]\n",
            " [4 5 6]\n",
            " [7 8 9]]\n",
            "\n",
            "Determinant of Matrix F: 0.0\n"
          ]
        }
      ]
    },
    {
      "cell_type": "code",
      "source": [
        "# 85. Create a square matrix `G` and find its inverse.\n",
        "\n",
        "G = np.array([[1, 2],\n",
        "              [3, 4]])\n",
        "\n",
        "inverse_G = np.linalg.inv(G)\n",
        "\n",
        "print(\"Matrix G:\\n\", G)\n",
        "print(\"\\nInverse of Matrix G:\\n\",inverse_G)"
      ],
      "metadata": {
        "colab": {
          "base_uri": "https://localhost:8080/"
        },
        "id": "JK7D_6EfUb6z",
        "outputId": "09e00435-187f-4a71-8f0a-61f690c4efa1"
      },
      "execution_count": 52,
      "outputs": [
        {
          "output_type": "stream",
          "name": "stdout",
          "text": [
            "Matrix G:\n",
            " [[1 2]\n",
            " [3 4]]\n",
            "\n",
            "Inverse of Matrix G:\n",
            " [[-2.   1. ]\n",
            " [ 1.5 -0.5]]\n"
          ]
        }
      ]
    }
  ]
}